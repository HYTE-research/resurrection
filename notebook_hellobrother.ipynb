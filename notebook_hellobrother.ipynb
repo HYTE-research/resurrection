{
 "cells": [
  {
   "cell_type": "code",
   "execution_count": 21,
   "metadata": {},
   "outputs": [],
   "source": [
    "import pandas as pd\n",
    "import json\n",
    "\n",
    "import requests\n",
    "\n",
    "import time\n",
    "\n",
    "import os, codecs"
   ]
  },
  {
   "cell_type": "code",
   "execution_count": null,
   "metadata": {},
   "outputs": [],
   "source": []
  },
  {
   "cell_type": "code",
   "execution_count": 79,
   "metadata": {},
   "outputs": [],
   "source": [
    "# Establishing access to Twitter API\n",
    "with open('keychain.json') as f:\n",
    "  keychain = json.load(f)\n",
    "\n",
    "# Using Twython for rehybdrating individual tweets\n",
    "twitter = Twython(keychain['CONSUMER_KEY'], keychain['CONSUMER_SECRET'], oauth_version=2)\n",
    "ACCESS_TOKEN = twitter.obtain_access_token()\n",
    "twitter = Twython(keychain['CONSUMER_KEY'], access_token=ACCESS_TOKEN)"
   ]
  },
  {
   "attachments": {},
   "cell_type": "markdown",
   "metadata": {},
   "source": [
    "First, we need to gain access to a list of tweets that we would like to resurrect. \n",
    "\n",
    "We have previously shared a list of tweet ids related to hello brother and provide a Jupyter notebook for rehydrating the tweets. \n",
    "\n",
    "Next, we will continue the process after the tweets have been rehydrated."
   ]
  },
  {
   "cell_type": "code",
   "execution_count": 23,
   "metadata": {},
   "outputs": [
    {
     "data": {
      "text/plain": [
       "1455     \"Daoud Nabi\", a 71-year-old Afghan refugee who...\n",
       "21677    Selam kardeşim...\\n\\n#HelloBrother https://t.c...\n",
       "4206     Almighty, we pray for those grieving. Those wh...\n",
       "24336    Terrorism has no religion. Let us unite and st...\n",
       "1131     ظلموا شريعة خير من وطئ الثرى\\nقالوا: عُطاشى لل...\n",
       "Name: full_text, dtype: object"
      ]
     },
     "execution_count": 23,
     "metadata": {},
     "output_type": "execute_result"
    }
   ],
   "source": [
    "# Reading the JSON Lines data\n",
    "with open('data/hellobrother_rehydrated.jsonl') as f:\n",
    "    tweets_jsonl = f.read()\n",
    "\n",
    "# Creating a Pandas dataframe    \n",
    "df_hydrated = pd.DataFrame([json.loads(jline) for jline in tweets_jsonl.splitlines()]).sort_values('retweet_count', ascending=False)\n",
    "\n",
    "# Selecting the tweets with most retweets\n",
    "df_hydrated.head(5).full_text"
   ]
  },
  {
   "cell_type": "code",
   "execution_count": 11,
   "metadata": {},
   "outputs": [
    {
     "data": {
      "text/plain": [
       "Index(['created_at', 'id', 'id_str', 'full_text', 'truncated',\n",
       "       'display_text_range', 'entities', 'source', 'in_reply_to_status_id',\n",
       "       'in_reply_to_status_id_str', 'in_reply_to_user_id',\n",
       "       'in_reply_to_user_id_str', 'in_reply_to_screen_name', 'user', 'geo',\n",
       "       'coordinates', 'place', 'contributors', 'is_quote_status',\n",
       "       'quoted_status_id', 'quoted_status_id_str', 'quoted_status_permalink',\n",
       "       'retweet_count', 'favorite_count', 'favorited', 'retweeted',\n",
       "       'possibly_sensitive', 'lang', 'quoted_status', 'extended_entities',\n",
       "       'withheld_in_countries'],\n",
       "      dtype='object')"
      ]
     },
     "execution_count": 11,
     "metadata": {},
     "output_type": "execute_result"
    }
   ],
   "source": [
    "df_hydrated.columns"
   ]
  },
  {
   "attachments": {},
   "cell_type": "markdown",
   "metadata": {},
   "source": [
    "Next, extracting author username for each tweet for easy accessibility"
   ]
  },
  {
   "cell_type": "code",
   "execution_count": 24,
   "metadata": {},
   "outputs": [],
   "source": [
    "def extract_username(user):\n",
    "    #print(user)\n",
    "    return user['screen_name']\n",
    "\n",
    "df_hydrated['author_username'] = df_hydrated.user.apply(extract_username)"
   ]
  },
  {
   "cell_type": "code",
   "execution_count": null,
   "metadata": {},
   "outputs": [],
   "source": []
  },
  {
   "cell_type": "code",
   "execution_count": null,
   "metadata": {},
   "outputs": [],
   "source": []
  },
  {
   "cell_type": "code",
   "execution_count": null,
   "metadata": {},
   "outputs": [],
   "source": []
  },
  {
   "attachments": {},
   "cell_type": "markdown",
   "metadata": {},
   "source": [
    "Using Twitter's oEmbed application programming interface (API) to fetch the necessary data on representing tweets in hypertext markup language (HTML)."
   ]
  },
  {
   "cell_type": "code",
   "execution_count": 27,
   "metadata": {},
   "outputs": [
    {
     "name": "stdout",
     "output_type": "stream",
     "text": [
      "Pandas(Index=1455, created_at='Fri Mar 15 19:57:42 +0000 2019', id=1106645666472886272, id_str='1106645666472886272', full_text='\"Daoud Nabi\", a 71-year-old Afghan refugee who escaped death in his country to cite in New Zealand where he received the terrorist at the mosque door with the words \"welcome brother\" but the terrorist killed him directly\\n#HelloBrother #NewZealandTerroristAttack https://t.co/BwMKujJXjp', truncated=False, display_text_range=[0, 261], entities={'hashtags': [{'text': 'HelloBrother', 'indices': [221, 234]}, {'text': 'NewZealandTerroristAttack', 'indices': [235, 261]}], 'symbols': [], 'user_mentions': [], 'urls': [], 'media': [{'id': 1106645662400163844, 'id_str': '1106645662400163844', 'indices': [262, 285], 'media_url': 'http://pbs.twimg.com/media/D1uYXd-WsAQHJY7.jpg', 'media_url_https': 'https://pbs.twimg.com/media/D1uYXd-WsAQHJY7.jpg', 'url': 'https://t.co/BwMKujJXjp', 'display_url': 'pic.twitter.com/BwMKujJXjp', 'expanded_url': 'https://twitter.com/FahadAldawsari0/status/1106645666472886272/photo/1', 'type': 'photo', 'sizes': {'thumb': {'w': 150, 'h': 150, 'resize': 'crop'}, 'medium': {'w': 780, 'h': 439, 'resize': 'fit'}, 'large': {'w': 780, 'h': 439, 'resize': 'fit'}, 'small': {'w': 680, 'h': 383, 'resize': 'fit'}}}]}, source='<a href=\"http://twitter.com/download/iphone\" rel=\"nofollow\">Twitter for iPhone</a>', in_reply_to_status_id=nan, in_reply_to_status_id_str=None, in_reply_to_user_id=nan, in_reply_to_user_id_str=None, in_reply_to_screen_name=None, user={'id': 974204565649346560, 'id_str': '974204565649346560', 'name': 'م. فهد العمّار Fahad Alammar', 'screen_name': 'Fahad_Alammar8', 'location': 'NC, USA, Riyadh, Saudi Arabia', 'description': 'مهندس، ماجستير هندسه مدنية ( ادارة المشاريع)رئيس منظمة الدراسات العليا@ncatsuaggies سابقاً.عضو في الجمعية الامريكية للمهندسين, وعضوالتخطيط والتطوير@SaudiEfforts', 'url': 'https://t.co/ejTzWyKZXe', 'entities': {'url': {'urls': [{'url': 'https://t.co/ejTzWyKZXe', 'expanded_url': 'https://youtu.be/1CfslG3Razc', 'display_url': 'youtu.be/1CfslG3Razc', 'indices': [0, 23]}]}, 'description': {'urls': []}}, 'protected': False, 'followers_count': 9990, 'friends_count': 3138, 'listed_count': 2, 'created_at': 'Thu Mar 15 08:44:03 +0000 2018', 'favourites_count': 1861, 'utc_offset': None, 'time_zone': None, 'geo_enabled': True, 'verified': False, 'statuses_count': 997, 'lang': None, 'contributors_enabled': False, 'is_translator': False, 'is_translation_enabled': False, 'profile_background_color': 'F5F8FA', 'profile_background_image_url': None, 'profile_background_image_url_https': None, 'profile_background_tile': False, 'profile_image_url': 'http://pbs.twimg.com/profile_images/1395689635012124674/aOBtglRw_normal.jpg', 'profile_image_url_https': 'https://pbs.twimg.com/profile_images/1395689635012124674/aOBtglRw_normal.jpg', 'profile_banner_url': 'https://pbs.twimg.com/profile_banners/974204565649346560/1621593394', 'profile_image_extensions_alt_text': None, 'profile_banner_extensions_alt_text': None, 'profile_link_color': '1DA1F2', 'profile_sidebar_border_color': 'C0DEED', 'profile_sidebar_fill_color': 'DDEEF6', 'profile_text_color': '333333', 'profile_use_background_image': True, 'has_extended_profile': False, 'default_profile': True, 'default_profile_image': False, 'following': False, 'follow_request_sent': False, 'notifications': False, 'translator_type': 'none', 'withheld_in_countries': []}, geo=None, coordinates=None, place=None, contributors=None, is_quote_status=False, quoted_status_id=nan, quoted_status_id_str=nan, quoted_status_permalink=nan, retweet_count=12351, favorite_count=17941, favorited=False, retweeted=False, possibly_sensitive=False, lang='en', quoted_status=nan, extended_entities={'media': [{'id': 1106645662400163844, 'id_str': '1106645662400163844', 'indices': [262, 285], 'media_url': 'http://pbs.twimg.com/media/D1uYXd-WsAQHJY7.jpg', 'media_url_https': 'https://pbs.twimg.com/media/D1uYXd-WsAQHJY7.jpg', 'url': 'https://t.co/BwMKujJXjp', 'display_url': 'pic.twitter.com/BwMKujJXjp', 'expanded_url': 'https://twitter.com/FahadAldawsari0/status/1106645666472886272/photo/1', 'type': 'photo', 'sizes': {'thumb': {'w': 150, 'h': 150, 'resize': 'crop'}, 'medium': {'w': 780, 'h': 439, 'resize': 'fit'}, 'large': {'w': 780, 'h': 439, 'resize': 'fit'}, 'small': {'w': 680, 'h': 383, 'resize': 'fit'}}, 'ext_alt_text': None}]}, withheld_in_countries=nan, author_username='Fahad_Alammar8')\n",
      "https://twitter.com/Fahad_Alammar8/status/1106645666472886272\n",
      "Pandas(Index=21677, created_at='Sat Mar 23 09:38:45 +0000 2019', id=1109389007761358855, id_str='1109389007761358855', full_text='Selam kardeşim...\\n\\n#HelloBrother https://t.co/6V0wGDsfWF', truncated=False, display_text_range=[0, 32], entities={'hashtags': [{'text': 'HelloBrother', 'indices': [19, 32]}], 'symbols': [], 'user_mentions': [], 'urls': [], 'media': [{'id': 1109386613954621440, 'id_str': '1109386613954621440', 'indices': [33, 56], 'media_url': 'http://pbs.twimg.com/amplify_video_thumb/1109386613954621440/img/3r7dN3of5RPh_hom.jpg', 'media_url_https': 'https://pbs.twimg.com/amplify_video_thumb/1109386613954621440/img/3r7dN3of5RPh_hom.jpg', 'url': 'https://t.co/6V0wGDsfWF', 'display_url': 'pic.twitter.com/6V0wGDsfWF', 'expanded_url': 'https://twitter.com/RT_Erdogan/status/1109389007761358855/video/1', 'type': 'photo', 'sizes': {'thumb': {'w': 150, 'h': 150, 'resize': 'crop'}, 'medium': {'w': 1200, 'h': 675, 'resize': 'fit'}, 'small': {'w': 680, 'h': 383, 'resize': 'fit'}, 'large': {'w': 1280, 'h': 720, 'resize': 'fit'}}, 'source_user_id': 1036747176423157762, 'source_user_id_str': '1036747176423157762'}]}, source='<a href=\"https://studio.twitter.com\" rel=\"nofollow\">Twitter Media Studio</a>', in_reply_to_status_id=nan, in_reply_to_status_id_str=None, in_reply_to_user_id=nan, in_reply_to_user_id_str=None, in_reply_to_screen_name=None, user={'id': 68034431, 'id_str': '68034431', 'name': 'Recep Tayyip Erdoğan', 'screen_name': 'RTErdogan', 'location': 'Ankara, Turkey', 'description': 'Türkiye Cumhurbaşkanı ve AK Parti Genel Başkanı - President of Turkey and AK Party Chairman', 'url': 'https://t.co/Z1WiHEAKA0', 'entities': {'url': {'urls': [{'url': 'https://t.co/Z1WiHEAKA0', 'expanded_url': 'http://t.me/RTErdogan', 'display_url': 't.me/RTErdogan', 'indices': [0, 23]}]}, 'description': {'urls': []}}, 'protected': False, 'followers_count': 18064488, 'friends_count': 102, 'listed_count': 12503, 'created_at': 'Sun Aug 23 01:13:44 +0000 2009', 'favourites_count': 2, 'utc_offset': None, 'time_zone': None, 'geo_enabled': True, 'verified': True, 'statuses_count': 8015, 'lang': None, 'contributors_enabled': False, 'is_translator': False, 'is_translation_enabled': False, 'profile_background_color': 'FFFFFF', 'profile_background_image_url': 'http://abs.twimg.com/images/themes/theme15/bg.png', 'profile_background_image_url_https': 'https://abs.twimg.com/images/themes/theme15/bg.png', 'profile_background_tile': False, 'profile_image_url': 'http://pbs.twimg.com/profile_images/1151410974240444416/yVvaD7hU_normal.jpg', 'profile_image_url_https': 'https://pbs.twimg.com/profile_images/1151410974240444416/yVvaD7hU_normal.jpg', 'profile_banner_url': 'https://pbs.twimg.com/profile_banners/68034431/1563352945', 'profile_image_extensions_alt_text': None, 'profile_banner_extensions_alt_text': None, 'profile_link_color': '1E9EB3', 'profile_sidebar_border_color': 'FFFFFF', 'profile_sidebar_fill_color': 'C0DFEC', 'profile_text_color': '333333', 'profile_use_background_image': False, 'has_extended_profile': False, 'default_profile': False, 'default_profile_image': False, 'following': False, 'follow_request_sent': False, 'notifications': False, 'translator_type': 'regular', 'withheld_in_countries': []}, geo=None, coordinates=None, place=None, contributors=None, is_quote_status=False, quoted_status_id=nan, quoted_status_id_str=nan, quoted_status_permalink=nan, retweet_count=10245, favorite_count=35083, favorited=False, retweeted=False, possibly_sensitive=False, lang='tr', quoted_status=nan, extended_entities={'media': [{'id': 1109386613954621440, 'id_str': '1109386613954621440', 'indices': [33, 56], 'media_url': 'http://pbs.twimg.com/amplify_video_thumb/1109386613954621440/img/3r7dN3of5RPh_hom.jpg', 'media_url_https': 'https://pbs.twimg.com/amplify_video_thumb/1109386613954621440/img/3r7dN3of5RPh_hom.jpg', 'url': 'https://t.co/6V0wGDsfWF', 'display_url': 'pic.twitter.com/6V0wGDsfWF', 'expanded_url': 'https://twitter.com/RT_Erdogan/status/1109389007761358855/video/1', 'type': 'video', 'sizes': {'thumb': {'w': 150, 'h': 150, 'resize': 'crop'}, 'medium': {'w': 1200, 'h': 675, 'resize': 'fit'}, 'small': {'w': 680, 'h': 383, 'resize': 'fit'}, 'large': {'w': 1280, 'h': 720, 'resize': 'fit'}}, 'source_user_id': 1036747176423157762, 'source_user_id_str': '1036747176423157762', 'video_info': {'aspect_ratio': [16, 9], 'duration_millis': 69400, 'variants': [{'bitrate': 832000, 'content_type': 'video/mp4', 'url': 'https://video.twimg.com/amplify_video/1109386613954621440/vid/640x360/Cw3y32LhhxIFYMT-.mp4?tag=11'}, {'content_type': 'application/x-mpegURL', 'url': 'https://video.twimg.com/amplify_video/1109386613954621440/pl/z4MSrx26c2EyjrXA.m3u8?tag=11'}, {'bitrate': 288000, 'content_type': 'video/mp4', 'url': 'https://video.twimg.com/amplify_video/1109386613954621440/vid/320x180/iEuDK0gvZ2qD5yag.mp4?tag=11'}, {'bitrate': 2176000, 'content_type': 'video/mp4', 'url': 'https://video.twimg.com/amplify_video/1109386613954621440/vid/1280x720/bi0JcKwHx2jv0Ulg.mp4?tag=11'}]}, 'ext_alt_text': None, 'additional_media_info': {'title': '', 'description': '', 'embeddable': True, 'monetizable': False, 'source_user': {'id': 1036747176423157762, 'id_str': '1036747176423157762', 'name': 'Erdoğan Dijital Medya', 'screen_name': 'RTEdijital', 'location': '', 'description': \"Cumhurbaşkanımız Sayın @RTErdogan'ın dijital medya paylaşımları\", 'url': None, 'entities': {'description': {'urls': []}}, 'protected': False, 'followers_count': 158936, 'friends_count': 5, 'listed_count': 164, 'created_at': 'Mon Sep 03 22:46:03 +0000 2018', 'favourites_count': 1, 'utc_offset': None, 'time_zone': None, 'geo_enabled': False, 'verified': True, 'statuses_count': 2240, 'lang': None, 'contributors_enabled': False, 'is_translator': False, 'is_translation_enabled': False, 'profile_background_color': '000000', 'profile_background_image_url': 'http://abs.twimg.com/images/themes/theme1/bg.png', 'profile_background_image_url_https': 'https://abs.twimg.com/images/themes/theme1/bg.png', 'profile_background_tile': False, 'profile_image_url': 'http://pbs.twimg.com/profile_images/1156833530825121792/SeEC2XxW_normal.jpg', 'profile_image_url_https': 'https://pbs.twimg.com/profile_images/1156833530825121792/SeEC2XxW_normal.jpg', 'profile_banner_url': 'https://pbs.twimg.com/profile_banners/1036747176423157762/1564645583', 'profile_image_extensions_alt_text': None, 'profile_banner_extensions_alt_text': None, 'profile_link_color': 'FF691F', 'profile_sidebar_border_color': '000000', 'profile_sidebar_fill_color': '000000', 'profile_text_color': '000000', 'profile_use_background_image': False, 'has_extended_profile': False, 'default_profile': False, 'default_profile_image': False, 'following': False, 'follow_request_sent': False, 'notifications': False, 'translator_type': 'none', 'withheld_in_countries': []}}}]}, withheld_in_countries=nan, author_username='RTErdogan')\n",
      "https://twitter.com/RTErdogan/status/1109389007761358855\n",
      "Pandas(Index=4206, created_at='Fri Mar 15 21:30:19 +0000 2019', id=1106668975734341633, id_str='1106668975734341633', full_text='Almighty, we pray for those grieving. Those who are broken; with broken hearts &amp; broken lives. Comfort them. Bless them with healing. Change their circumstances. Help them make sense of all the chaos going on around them. Make them feel whole again. #NewZealand #HelloBrother', truncated=False, display_text_range=[0, 279], entities={'hashtags': [{'text': 'NewZealand', 'indices': [254, 265]}, {'text': 'HelloBrother', 'indices': [266, 279]}], 'symbols': [], 'user_mentions': [], 'urls': []}, source='<a href=\"http://twitter.com/download/android\" rel=\"nofollow\">Twitter for Android</a>', in_reply_to_status_id=nan, in_reply_to_status_id_str=None, in_reply_to_user_id=nan, in_reply_to_user_id_str=None, in_reply_to_screen_name=None, user={'id': 247653244, 'id_str': '247653244', 'name': 'Mufti Menk', 'screen_name': 'muftimenk', 'location': 'Zimbabwe', 'description': 'Healing the Broken Heart', 'url': 'https://t.co/jh79x5DBdB', 'entities': {'url': {'urls': [{'url': 'https://t.co/jh79x5DBdB', 'expanded_url': 'http://www.muftimenk.com', 'display_url': 'muftimenk.com', 'indices': [0, 23]}]}, 'description': {'urls': []}}, 'protected': False, 'followers_count': 7919209, 'friends_count': 1, 'listed_count': 2944, 'created_at': 'Sat Feb 05 07:57:28 +0000 2011', 'favourites_count': 2, 'utc_offset': None, 'time_zone': None, 'geo_enabled': True, 'verified': True, 'statuses_count': 11294, 'lang': None, 'contributors_enabled': False, 'is_translator': False, 'is_translation_enabled': False, 'profile_background_color': '8B542B', 'profile_background_image_url': 'http://abs.twimg.com/images/themes/theme8/bg.gif', 'profile_background_image_url_https': 'https://abs.twimg.com/images/themes/theme8/bg.gif', 'profile_background_tile': True, 'profile_image_url': 'http://pbs.twimg.com/profile_images/1102171650982928385/JR6X6tOB_normal.jpg', 'profile_image_url_https': 'https://pbs.twimg.com/profile_images/1102171650982928385/JR6X6tOB_normal.jpg', 'profile_banner_url': 'https://pbs.twimg.com/profile_banners/247653244/1551490832', 'profile_image_extensions_alt_text': None, 'profile_banner_extensions_alt_text': None, 'profile_link_color': 'CF770B', 'profile_sidebar_border_color': '000000', 'profile_sidebar_fill_color': 'EADEAA', 'profile_text_color': '333333', 'profile_use_background_image': True, 'has_extended_profile': True, 'default_profile': False, 'default_profile_image': False, 'following': False, 'follow_request_sent': False, 'notifications': False, 'translator_type': 'none', 'withheld_in_countries': []}, geo=None, coordinates=None, place=None, contributors=None, is_quote_status=False, quoted_status_id=nan, quoted_status_id_str=nan, quoted_status_permalink=nan, retweet_count=10206, favorite_count=25431, favorited=False, retweeted=False, possibly_sensitive=nan, lang='en', quoted_status=nan, extended_entities=nan, withheld_in_countries=nan, author_username='muftimenk')\n",
      "https://twitter.com/muftimenk/status/1106668975734341633\n",
      "Pandas(Index=24336, created_at='Mon Mar 25 13:22:57 +0000 2019', id=1110170205748187136, id_str='1110170205748187136', full_text='Terrorism has no religion. Let us unite and stand together against violence against any race or belief. 🙏🏼❤🇳🇿 #HelloBrother #Christchurch https://t.co/teVe32TJ2d', truncated=False, display_text_range=[0, 137], entities={'hashtags': [{'text': 'HelloBrother', 'indices': [110, 123]}, {'text': 'Christchurch', 'indices': [124, 137]}], 'symbols': [], 'user_mentions': [], 'urls': [], 'media': [{'id': 1110170010771701762, 'id_str': '1110170010771701762', 'indices': [138, 161], 'media_url': 'http://pbs.twimg.com/ext_tw_video_thumb/1110170010771701762/pu/img/qwXzcDvvT-C_haGB.jpg', 'media_url_https': 'https://pbs.twimg.com/ext_tw_video_thumb/1110170010771701762/pu/img/qwXzcDvvT-C_haGB.jpg', 'url': 'https://t.co/teVe32TJ2d', 'display_url': 'pic.twitter.com/teVe32TJ2d', 'expanded_url': 'https://twitter.com/MesutOzil1088/status/1110170205748187136/video/1', 'type': 'photo', 'sizes': {'thumb': {'w': 150, 'h': 150, 'resize': 'crop'}, 'medium': {'w': 1200, 'h': 675, 'resize': 'fit'}, 'small': {'w': 680, 'h': 383, 'resize': 'fit'}, 'large': {'w': 1280, 'h': 720, 'resize': 'fit'}}}]}, source='<a href=\"http://twitter.com/download/android\" rel=\"nofollow\">Twitter for Android</a>', in_reply_to_status_id=nan, in_reply_to_status_id_str=None, in_reply_to_user_id=nan, in_reply_to_user_id_str=None, in_reply_to_screen_name=None, user={'id': 533085085, 'id_str': '533085085', 'name': 'Mesut Özil', 'screen_name': 'MesutOzil1088', 'location': 'Turkey, Istanbul', 'description': 'Football player @fenerbahce ⚽️ | Co-Founder @UnityPerform 🌱 | 🎮 @m10esports', 'url': 'https://t.co/w0myUvKEpO', 'entities': {'url': {'urls': [{'url': 'https://t.co/w0myUvKEpO', 'expanded_url': 'https://www.m10streetwear.com/', 'display_url': 'm10streetwear.com', 'indices': [0, 23]}]}, 'description': {'urls': []}}, 'protected': False, 'followers_count': 26096513, 'friends_count': 169, 'listed_count': 14538, 'created_at': 'Thu Mar 22 12:12:51 +0000 2012', 'favourites_count': 386, 'utc_offset': None, 'time_zone': None, 'geo_enabled': True, 'verified': True, 'statuses_count': 2226, 'lang': None, 'contributors_enabled': False, 'is_translator': False, 'is_translation_enabled': True, 'profile_background_color': 'C0DEED', 'profile_background_image_url': 'http://abs.twimg.com/images/themes/theme1/bg.png', 'profile_background_image_url_https': 'https://abs.twimg.com/images/themes/theme1/bg.png', 'profile_background_tile': False, 'profile_image_url': 'http://pbs.twimg.com/profile_images/1448899313111818240/cUYzEMoW_normal.jpg', 'profile_image_url_https': 'https://pbs.twimg.com/profile_images/1448899313111818240/cUYzEMoW_normal.jpg', 'profile_banner_url': 'https://pbs.twimg.com/profile_banners/533085085/1530711864', 'profile_image_extensions_alt_text': None, 'profile_banner_extensions_alt_text': None, 'profile_link_color': '1DA1F2', 'profile_sidebar_border_color': 'C0DEED', 'profile_sidebar_fill_color': 'DDEEF6', 'profile_text_color': '333333', 'profile_use_background_image': True, 'has_extended_profile': False, 'default_profile': True, 'default_profile_image': False, 'following': False, 'follow_request_sent': False, 'notifications': False, 'translator_type': 'none', 'withheld_in_countries': []}, geo=None, coordinates=None, place=None, contributors=None, is_quote_status=False, quoted_status_id=nan, quoted_status_id_str=nan, quoted_status_permalink=nan, retweet_count=7741, favorite_count=27052, favorited=False, retweeted=False, possibly_sensitive=False, lang='en', quoted_status=nan, extended_entities={'media': [{'id': 1110170010771701762, 'id_str': '1110170010771701762', 'indices': [138, 161], 'media_url': 'http://pbs.twimg.com/ext_tw_video_thumb/1110170010771701762/pu/img/qwXzcDvvT-C_haGB.jpg', 'media_url_https': 'https://pbs.twimg.com/ext_tw_video_thumb/1110170010771701762/pu/img/qwXzcDvvT-C_haGB.jpg', 'url': 'https://t.co/teVe32TJ2d', 'display_url': 'pic.twitter.com/teVe32TJ2d', 'expanded_url': 'https://twitter.com/MesutOzil1088/status/1110170205748187136/video/1', 'type': 'video', 'sizes': {'thumb': {'w': 150, 'h': 150, 'resize': 'crop'}, 'medium': {'w': 1200, 'h': 675, 'resize': 'fit'}, 'small': {'w': 680, 'h': 383, 'resize': 'fit'}, 'large': {'w': 1280, 'h': 720, 'resize': 'fit'}}, 'video_info': {'aspect_ratio': [16, 9], 'duration_millis': 106940, 'variants': [{'content_type': 'application/x-mpegURL', 'url': 'https://video.twimg.com/ext_tw_video/1110170010771701762/pu/pl/FmfbXHiaClZ9kQld.m3u8?tag=8'}, {'bitrate': 832000, 'content_type': 'video/mp4', 'url': 'https://video.twimg.com/ext_tw_video/1110170010771701762/pu/vid/640x360/GFQdNLTD-wTIkHH2.mp4?tag=8'}, {'bitrate': 2176000, 'content_type': 'video/mp4', 'url': 'https://video.twimg.com/ext_tw_video/1110170010771701762/pu/vid/1280x720/wREv_0E7QhbZT4Gi.mp4?tag=8'}, {'bitrate': 256000, 'content_type': 'video/mp4', 'url': 'https://video.twimg.com/ext_tw_video/1110170010771701762/pu/vid/320x180/lGyBKpJfLZrr0ReG.mp4?tag=8'}]}, 'ext_alt_text': None, 'additional_media_info': {'monetizable': False}}]}, withheld_in_countries=nan, author_username='MesutOzil1088')\n",
      "https://twitter.com/MesutOzil1088/status/1110170205748187136\n",
      "Pandas(Index=1131, created_at='Fri Mar 15 19:08:59 +0000 2019', id=1106633406698409985, id_str='1106633406698409985', full_text='ظلموا شريعة خير من وطئ الثرى\\nقالوا: عُطاشى للقتال وللدمِ\\nنسبوا الخوارج للرسول وصحبهَ\\nظُلماً وجوراً من نكاية مُجرمِ\\nوإذا أُبيد المُسلمون تباشروا\\nبتبجّحٍ وتكبُّرٍ وتهكمِ\\nتبّاً لمن قتل النفوس بريئةً\\nفي ثوب كُفرٍ أو عباءة مُسلمِ\\n#عائض_القرني\\n #HelloBrother\\n #هجوم_نيوزلندا_الارهابي', truncated=False, display_text_range=[0, 277], entities={'hashtags': [{'text': 'عائض_القرني', 'indices': [225, 237]}, {'text': 'HelloBrother', 'indices': [239, 252]}, {'text': 'هجوم_نيوزلندا_الارهابي', 'indices': [254, 277]}], 'symbols': [], 'user_mentions': [], 'urls': []}, source='<a href=\"http://twitter.com/download/iphone\" rel=\"nofollow\">Twitter for iPhone</a>', in_reply_to_status_id=nan, in_reply_to_status_id_str=None, in_reply_to_user_id=nan, in_reply_to_user_id_str=None, in_reply_to_screen_name=None, user={'id': 242245578, 'id_str': '242245578', 'name': 'د. عائض القرني', 'screen_name': 'Dr_alqarnee', 'location': 'Saudi Arabia', 'description': 'داعية إسلامي | دكتوراه في الحديث النبوي | ومؤلف وأديب صدرت لي العديد من المؤلفات وآخرها #ملهم_العالم للتواصل | alqarneoffice@gmail.com', 'url': 'https://t.co/YY0PcdZaMR', 'entities': {'url': {'urls': [{'url': 'https://t.co/YY0PcdZaMR', 'expanded_url': 'https://www.snapchat.com/add/dralqarnee', 'display_url': 'snapchat.com/add/dralqarnee', 'indices': [0, 23]}]}, 'description': {'urls': []}}, 'protected': False, 'followers_count': 20113174, 'friends_count': 496, 'listed_count': 16107, 'created_at': 'Mon Jan 24 09:22:31 +0000 2011', 'favourites_count': 1028, 'utc_offset': None, 'time_zone': None, 'geo_enabled': True, 'verified': True, 'statuses_count': 68193, 'lang': None, 'contributors_enabled': False, 'is_translator': False, 'is_translation_enabled': False, 'profile_background_color': 'C0DEED', 'profile_background_image_url': 'http://abs.twimg.com/images/themes/theme1/bg.png', 'profile_background_image_url_https': 'https://abs.twimg.com/images/themes/theme1/bg.png', 'profile_background_tile': False, 'profile_image_url': 'http://pbs.twimg.com/profile_images/1450490407247351812/w7Y_dRc8_normal.jpg', 'profile_image_url_https': 'https://pbs.twimg.com/profile_images/1450490407247351812/w7Y_dRc8_normal.jpg', 'profile_banner_url': 'https://pbs.twimg.com/profile_banners/242245578/1632679755', 'profile_image_extensions_alt_text': None, 'profile_banner_extensions_alt_text': None, 'profile_link_color': 'FF0000', 'profile_sidebar_border_color': 'FFFFFF', 'profile_sidebar_fill_color': 'DDEEF6', 'profile_text_color': '333333', 'profile_use_background_image': True, 'has_extended_profile': False, 'default_profile': False, 'default_profile_image': False, 'following': False, 'follow_request_sent': False, 'notifications': False, 'translator_type': 'regular', 'withheld_in_countries': []}, geo=None, coordinates=None, place=None, contributors=None, is_quote_status=False, quoted_status_id=nan, quoted_status_id_str=nan, quoted_status_permalink=nan, retweet_count=6757, favorite_count=6696, favorited=False, retweeted=False, possibly_sensitive=nan, lang='ar', quoted_status=nan, extended_entities=nan, withheld_in_countries=nan, author_username='Dr_alqarnee')\n",
      "https://twitter.com/Dr_alqarnee/status/1106633406698409985\n",
      "Pandas(Index=5266, created_at='Fri Mar 15 21:54:26 +0000 2019', id=1106675045072551937, id_str='1106675045072551937', full_text='المواطن الشهيد #محسن_الحربي عاش في #نيوزيلندا أكثر من 25 عاماً .. كان مُسلماً مُسالماً لم يتعرض لجيرانه بظُلم أو أذى ..\\nظهرت صورته الوحيدة للعالم رافعاً سبابته مودعاً الدنيا شهيداً، فأراد الله أن يُعليَ ذِكره ويُحسِن خاتمته مُصلياً في يوم فضيل ..\\nتقبله الله ورحمه.\\n.\\n#HelloBrother https://t.co/Ds2JkzgHI3', truncated=False, display_text_range=[0, 280], entities={'hashtags': [{'text': 'محسن_الحربي', 'indices': [15, 27]}, {'text': 'نيوزيلندا', 'indices': [35, 45]}, {'text': 'HelloBrother', 'indices': [267, 280]}], 'symbols': [], 'user_mentions': [], 'urls': [], 'media': [{'id': 1106675036067450886, 'id_str': '1106675036067450886', 'indices': [281, 304], 'media_url': 'http://pbs.twimg.com/media/D1uzFPaX0AYsbh5.jpg', 'media_url_https': 'https://pbs.twimg.com/media/D1uzFPaX0AYsbh5.jpg', 'url': 'https://t.co/Ds2JkzgHI3', 'display_url': 'pic.twitter.com/Ds2JkzgHI3', 'expanded_url': 'https://twitter.com/A_Alshathry/status/1106675045072551937/photo/1', 'type': 'photo', 'sizes': {'thumb': {'w': 150, 'h': 150, 'resize': 'crop'}, 'medium': {'w': 750, 'h': 701, 'resize': 'fit'}, 'large': {'w': 750, 'h': 701, 'resize': 'fit'}, 'small': {'w': 680, 'h': 636, 'resize': 'fit'}}}]}, source='<a href=\"http://twitter.com/download/iphone\" rel=\"nofollow\">Twitter for iPhone</a>', in_reply_to_status_id=nan, in_reply_to_status_id_str=None, in_reply_to_user_id=nan, in_reply_to_user_id_str=None, in_reply_to_screen_name=None, user={'id': 1068271750008500224, 'id_str': '1068271750008500224', 'name': 'د. علي الشثري', 'screen_name': 'Dr_shathry', 'location': 'Riyadh', 'description': 'أكاديمي وإعلامي', 'url': None, 'entities': {'description': {'urls': []}}, 'protected': False, 'followers_count': 6112, 'friends_count': 190, 'listed_count': 1, 'created_at': 'Thu Nov 29 22:33:27 +0000 2018', 'favourites_count': 47, 'utc_offset': None, 'time_zone': None, 'geo_enabled': False, 'verified': False, 'statuses_count': 898, 'lang': None, 'contributors_enabled': False, 'is_translator': False, 'is_translation_enabled': False, 'profile_background_color': 'F5F8FA', 'profile_background_image_url': None, 'profile_background_image_url_https': None, 'profile_background_tile': False, 'profile_image_url': 'http://pbs.twimg.com/profile_images/1440361215692185607/NX8ioIve_normal.jpg', 'profile_image_url_https': 'https://pbs.twimg.com/profile_images/1440361215692185607/NX8ioIve_normal.jpg', 'profile_banner_url': 'https://pbs.twimg.com/profile_banners/1068271750008500224/1609077577', 'profile_image_extensions_alt_text': None, 'profile_banner_extensions_alt_text': None, 'profile_link_color': '1DA1F2', 'profile_sidebar_border_color': 'C0DEED', 'profile_sidebar_fill_color': 'DDEEF6', 'profile_text_color': '333333', 'profile_use_background_image': True, 'has_extended_profile': False, 'default_profile': True, 'default_profile_image': False, 'following': False, 'follow_request_sent': False, 'notifications': False, 'translator_type': 'none', 'withheld_in_countries': []}, geo=None, coordinates=None, place=None, contributors=None, is_quote_status=False, quoted_status_id=nan, quoted_status_id_str=nan, quoted_status_permalink=nan, retweet_count=5844, favorite_count=5141, favorited=False, retweeted=False, possibly_sensitive=False, lang='ar', quoted_status=nan, extended_entities={'media': [{'id': 1106675036067450886, 'id_str': '1106675036067450886', 'indices': [281, 304], 'media_url': 'http://pbs.twimg.com/media/D1uzFPaX0AYsbh5.jpg', 'media_url_https': 'https://pbs.twimg.com/media/D1uzFPaX0AYsbh5.jpg', 'url': 'https://t.co/Ds2JkzgHI3', 'display_url': 'pic.twitter.com/Ds2JkzgHI3', 'expanded_url': 'https://twitter.com/A_Alshathry/status/1106675045072551937/photo/1', 'type': 'photo', 'sizes': {'thumb': {'w': 150, 'h': 150, 'resize': 'crop'}, 'medium': {'w': 750, 'h': 701, 'resize': 'fit'}, 'large': {'w': 750, 'h': 701, 'resize': 'fit'}, 'small': {'w': 680, 'h': 636, 'resize': 'fit'}}, 'ext_alt_text': None}]}, withheld_in_countries=nan, author_username='Dr_shathry')\n",
      "https://twitter.com/Dr_shathry/status/1106675045072551937\n",
      "Pandas(Index=3308, created_at='Fri Mar 15 21:10:07 +0000 2019', id=1106663891873030145, id_str='1106663891873030145', full_text='من غير الطبيعي أن تستيقظ كل يوم وتشعر بأنك مستهدف \\nIt’s not normal to wake up everyday &amp; you hear how your religion is trouble &amp; you’re a Suspect!!\\n#HelloBrother\\n#هجوم_نيوزلندا_الارهابي https://t.co/3SrJboukWy', truncated=False, display_text_range=[0, 193], entities={'hashtags': [{'text': 'HelloBrother', 'indices': [156, 169]}, {'text': 'هجوم_نيوزلندا_الارهابي', 'indices': [170, 193]}], 'symbols': [], 'user_mentions': [], 'urls': [], 'media': [{'id': 1106661870172278784, 'id_str': '1106661870172278784', 'indices': [194, 217], 'media_url': 'http://pbs.twimg.com/amplify_video_thumb/1106661870172278784/img/ZpqxGm1hrDu0qw35.jpg', 'media_url_https': 'https://pbs.twimg.com/amplify_video_thumb/1106661870172278784/img/ZpqxGm1hrDu0qw35.jpg', 'url': 'https://t.co/3SrJboukWy', 'display_url': 'pic.twitter.com/3SrJboukWy', 'expanded_url': 'https://twitter.com/AbdullahK5/status/1106663891873030145/video/1', 'type': 'photo', 'sizes': {'thumb': {'w': 150, 'h': 150, 'resize': 'crop'}, 'medium': {'w': 1200, 'h': 675, 'resize': 'fit'}, 'small': {'w': 680, 'h': 383, 'resize': 'fit'}, 'large': {'w': 1280, 'h': 720, 'resize': 'fit'}}}]}, source='<a href=\"https://studio.twitter.com\" rel=\"nofollow\">Twitter Media Studio</a>', in_reply_to_status_id=nan, in_reply_to_status_id_str=None, in_reply_to_user_id=nan, in_reply_to_user_id_str=None, in_reply_to_screen_name=None, user={'id': 355130440, 'id_str': '355130440', 'name': 'عـبدالله الخريّف', 'screen_name': 'AbdullahK5', 'location': 'الرياض', 'description': 'مُهتم بإثراء المحتوى العربي | متخرج من جامعة ميتشقن الأمريكية | متخصص بالإدارة والإعلام الرقمي | أؤمن بأن الغربة واحدة من أعظم مدارس الحياة |❤️🇸🇦', 'url': 'https://t.co/RMex68okJK', 'entities': {'url': {'urls': [{'url': 'https://t.co/RMex68okJK', 'expanded_url': 'https://www.snapchat.com/add/abdullahk5', 'display_url': 'snapchat.com/add/abdullahk5', 'indices': [0, 23]}]}, 'description': {'urls': []}}, 'protected': False, 'followers_count': 2793554, 'friends_count': 849, 'listed_count': 1867, 'created_at': 'Sun Aug 14 21:50:27 +0000 2011', 'favourites_count': 2266, 'utc_offset': None, 'time_zone': None, 'geo_enabled': True, 'verified': False, 'statuses_count': 17165, 'lang': None, 'contributors_enabled': False, 'is_translator': False, 'is_translation_enabled': False, 'profile_background_color': '131516', 'profile_background_image_url': 'http://abs.twimg.com/images/themes/theme14/bg.gif', 'profile_background_image_url_https': 'https://abs.twimg.com/images/themes/theme14/bg.gif', 'profile_background_tile': True, 'profile_image_url': 'http://pbs.twimg.com/profile_images/1376805356479909890/u_idqh98_normal.jpg', 'profile_image_url_https': 'https://pbs.twimg.com/profile_images/1376805356479909890/u_idqh98_normal.jpg', 'profile_banner_url': 'https://pbs.twimg.com/profile_banners/355130440/1617095805', 'profile_image_extensions_alt_text': None, 'profile_banner_extensions_alt_text': None, 'profile_link_color': '009999', 'profile_sidebar_border_color': 'EEEEEE', 'profile_sidebar_fill_color': 'EFEFEF', 'profile_text_color': '333333', 'profile_use_background_image': True, 'has_extended_profile': True, 'default_profile': False, 'default_profile_image': False, 'following': False, 'follow_request_sent': False, 'notifications': False, 'translator_type': 'none', 'withheld_in_countries': []}, geo=None, coordinates=None, place=None, contributors=None, is_quote_status=False, quoted_status_id=nan, quoted_status_id_str=nan, quoted_status_permalink=nan, retweet_count=5075, favorite_count=5269, favorited=False, retweeted=False, possibly_sensitive=False, lang='und', quoted_status=nan, extended_entities={'media': [{'id': 1106661870172278784, 'id_str': '1106661870172278784', 'indices': [194, 217], 'media_url': 'http://pbs.twimg.com/amplify_video_thumb/1106661870172278784/img/ZpqxGm1hrDu0qw35.jpg', 'media_url_https': 'https://pbs.twimg.com/amplify_video_thumb/1106661870172278784/img/ZpqxGm1hrDu0qw35.jpg', 'url': 'https://t.co/3SrJboukWy', 'display_url': 'pic.twitter.com/3SrJboukWy', 'expanded_url': 'https://twitter.com/AbdullahK5/status/1106663891873030145/video/1', 'type': 'video', 'sizes': {'thumb': {'w': 150, 'h': 150, 'resize': 'crop'}, 'medium': {'w': 1200, 'h': 675, 'resize': 'fit'}, 'small': {'w': 680, 'h': 383, 'resize': 'fit'}, 'large': {'w': 1280, 'h': 720, 'resize': 'fit'}}, 'video_info': {'aspect_ratio': [16, 9], 'duration_millis': 112417, 'variants': [{'bitrate': 2176000, 'content_type': 'video/mp4', 'url': 'https://video.twimg.com/amplify_video/1106661870172278784/vid/1280x720/kCAQgfiRVmH-r2Zt.mp4?tag=11'}, {'bitrate': 288000, 'content_type': 'video/mp4', 'url': 'https://video.twimg.com/amplify_video/1106661870172278784/vid/320x180/LcopfjbMorAQ1OcS.mp4?tag=11'}, {'content_type': 'application/x-mpegURL', 'url': 'https://video.twimg.com/amplify_video/1106661870172278784/pl/i8idpTghiCtgoYcN.m3u8?tag=11'}, {'bitrate': 832000, 'content_type': 'video/mp4', 'url': 'https://video.twimg.com/amplify_video/1106661870172278784/vid/640x360/iYrST3qcDVxTRvoz.mp4?tag=11'}]}, 'ext_alt_text': None, 'additional_media_info': {'title': '', 'description': '', 'embeddable': True, 'monetizable': False}}]}, withheld_in_countries=nan, author_username='AbdullahK5')\n",
      "https://twitter.com/AbdullahK5/status/1106663891873030145\n",
      "Pandas(Index=36, created_at='Fri Mar 15 11:32:47 +0000 2019', id=1106518601379598336, id_str='1106518601379598336', full_text='#HelloBrother \\nارسلت السلام فأرسلتني للسلام', truncated=False, display_text_range=[0, 43], entities={'hashtags': [{'text': 'HelloBrother', 'indices': [0, 13]}], 'symbols': [], 'user_mentions': [], 'urls': []}, source='<a href=\"http://twitter.com/download/iphone\" rel=\"nofollow\">Twitter for iPhone</a>', in_reply_to_status_id=nan, in_reply_to_status_id_str=None, in_reply_to_user_id=nan, in_reply_to_user_id_str=None, in_reply_to_screen_name=None, user={'id': 1574417917, 'id_str': '1574417917', 'name': 'زَيْد', 'screen_name': 'rightZaid', 'location': '', 'description': 'ENFP / I write for fun.', 'url': 'https://t.co/C7pmEVtTif', 'entities': {'url': {'urls': [{'url': 'https://t.co/C7pmEVtTif', 'expanded_url': 'https://curiouscat.qa/Rightzaid', 'display_url': 'curiouscat.qa/Rightzaid', 'indices': [0, 23]}]}, 'description': {'urls': []}}, 'protected': False, 'followers_count': 1170, 'friends_count': 430, 'listed_count': 3, 'created_at': 'Sun Jul 07 05:39:35 +0000 2013', 'favourites_count': 11457, 'utc_offset': None, 'time_zone': None, 'geo_enabled': True, 'verified': False, 'statuses_count': 7973, 'lang': None, 'contributors_enabled': False, 'is_translator': False, 'is_translation_enabled': False, 'profile_background_color': '0F0A02', 'profile_background_image_url': 'http://abs.twimg.com/images/themes/theme1/bg.png', 'profile_background_image_url_https': 'https://abs.twimg.com/images/themes/theme1/bg.png', 'profile_background_tile': False, 'profile_image_url': 'http://pbs.twimg.com/profile_images/1441383362606690317/3o7DdSlD_normal.jpg', 'profile_image_url_https': 'https://pbs.twimg.com/profile_images/1441383362606690317/3o7DdSlD_normal.jpg', 'profile_banner_url': 'https://pbs.twimg.com/profile_banners/1574417917/1627506032', 'profile_image_extensions_alt_text': None, 'profile_banner_extensions_alt_text': None, 'profile_link_color': '473623', 'profile_sidebar_border_color': 'FFFFFF', 'profile_sidebar_fill_color': '171106', 'profile_text_color': '8A7302', 'profile_use_background_image': True, 'has_extended_profile': True, 'default_profile': False, 'default_profile_image': False, 'following': False, 'follow_request_sent': False, 'notifications': False, 'translator_type': 'none', 'withheld_in_countries': []}, geo=None, coordinates=None, place=None, contributors=None, is_quote_status=False, quoted_status_id=nan, quoted_status_id_str=nan, quoted_status_permalink=nan, retweet_count=4171, favorite_count=3646, favorited=False, retweeted=False, possibly_sensitive=nan, lang='ar', quoted_status=nan, extended_entities=nan, withheld_in_countries=nan, author_username='rightZaid')\n",
      "https://twitter.com/rightZaid/status/1106518601379598336\n",
      "Pandas(Index=875, created_at='Fri Mar 15 18:27:06 +0000 2019', id=1106622869252046848, id_str='1106622869252046848', full_text='#helloBrother “If you stretch your hand to kill me, I shall not stretch mine to kill you; for I fear Allah, the Lord of the Worlds”. (28) Al-Ma’idah ( Quran )                 #NewZealandTerroristAttack https://t.co/Db9y2iAPlD', truncated=False, display_text_range=[0, 201], entities={'hashtags': [{'text': 'helloBrother', 'indices': [0, 13]}, {'text': 'NewZealandTerroristAttack', 'indices': [175, 201]}], 'symbols': [], 'user_mentions': [], 'urls': [], 'media': [{'id': 1106622856287391745, 'id_str': '1106622856287391745', 'indices': [202, 225], 'media_url': 'http://pbs.twimg.com/media/D1uDn-lWkAEUZt-.jpg', 'media_url_https': 'https://pbs.twimg.com/media/D1uDn-lWkAEUZt-.jpg', 'url': 'https://t.co/Db9y2iAPlD', 'display_url': 'pic.twitter.com/Db9y2iAPlD', 'expanded_url': 'https://twitter.com/blue_037/status/1106622869252046848/photo/1', 'type': 'photo', 'sizes': {'small': {'w': 680, 'h': 496, 'resize': 'fit'}, 'thumb': {'w': 150, 'h': 150, 'resize': 'crop'}, 'large': {'w': 750, 'h': 547, 'resize': 'fit'}, 'medium': {'w': 750, 'h': 547, 'resize': 'fit'}}}]}, source='<a href=\"http://twitter.com/download/iphone\" rel=\"nofollow\">Twitter for iPhone</a>', in_reply_to_status_id=nan, in_reply_to_status_id_str=None, in_reply_to_user_id=nan, in_reply_to_user_id_str=None, in_reply_to_screen_name=None, user={'id': 981447111916118017, 'id_str': '981447111916118017', 'name': 'Blue', 'screen_name': 'blue_037', 'location': 'Nope', 'description': 'Ain’t got much to say', 'url': None, 'entities': {'description': {'urls': []}}, 'protected': False, 'followers_count': 86, 'friends_count': 284, 'listed_count': 0, 'created_at': 'Wed Apr 04 08:23:20 +0000 2018', 'favourites_count': 300, 'utc_offset': None, 'time_zone': None, 'geo_enabled': False, 'verified': False, 'statuses_count': 81, 'lang': None, 'contributors_enabled': False, 'is_translator': False, 'is_translation_enabled': False, 'profile_background_color': 'F5F8FA', 'profile_background_image_url': None, 'profile_background_image_url_https': None, 'profile_background_tile': False, 'profile_image_url': 'http://pbs.twimg.com/profile_images/1054666396108578816/IhAONyoh_normal.jpg', 'profile_image_url_https': 'https://pbs.twimg.com/profile_images/1054666396108578816/IhAONyoh_normal.jpg', 'profile_banner_url': 'https://pbs.twimg.com/profile_banners/981447111916118017/1540287040', 'profile_image_extensions_alt_text': None, 'profile_banner_extensions_alt_text': None, 'profile_link_color': '1DA1F2', 'profile_sidebar_border_color': 'C0DEED', 'profile_sidebar_fill_color': 'DDEEF6', 'profile_text_color': '333333', 'profile_use_background_image': True, 'has_extended_profile': False, 'default_profile': True, 'default_profile_image': False, 'following': False, 'follow_request_sent': False, 'notifications': False, 'translator_type': 'none', 'withheld_in_countries': []}, geo=None, coordinates=None, place=None, contributors=None, is_quote_status=False, quoted_status_id=nan, quoted_status_id_str=nan, quoted_status_permalink=nan, retweet_count=3733, favorite_count=4507, favorited=False, retweeted=False, possibly_sensitive=True, lang='en', quoted_status=nan, extended_entities={'media': [{'id': 1106622856287391745, 'id_str': '1106622856287391745', 'indices': [202, 225], 'media_url': 'http://pbs.twimg.com/media/D1uDn-lWkAEUZt-.jpg', 'media_url_https': 'https://pbs.twimg.com/media/D1uDn-lWkAEUZt-.jpg', 'url': 'https://t.co/Db9y2iAPlD', 'display_url': 'pic.twitter.com/Db9y2iAPlD', 'expanded_url': 'https://twitter.com/blue_037/status/1106622869252046848/photo/1', 'type': 'photo', 'sizes': {'small': {'w': 680, 'h': 496, 'resize': 'fit'}, 'thumb': {'w': 150, 'h': 150, 'resize': 'crop'}, 'large': {'w': 750, 'h': 547, 'resize': 'fit'}, 'medium': {'w': 750, 'h': 547, 'resize': 'fit'}}, 'ext_alt_text': None}, {'id': 1106622855876362241, 'id_str': '1106622855876362241', 'indices': [202, 225], 'media_url': 'http://pbs.twimg.com/media/D1uDn9DWwAE0WPi.jpg', 'media_url_https': 'https://pbs.twimg.com/media/D1uDn9DWwAE0WPi.jpg', 'url': 'https://t.co/Db9y2iAPlD', 'display_url': 'pic.twitter.com/Db9y2iAPlD', 'expanded_url': 'https://twitter.com/blue_037/status/1106622869252046848/photo/1', 'type': 'photo', 'sizes': {'thumb': {'w': 150, 'h': 150, 'resize': 'crop'}, 'small': {'w': 519, 'h': 680, 'resize': 'fit'}, 'large': {'w': 782, 'h': 1024, 'resize': 'fit'}, 'medium': {'w': 782, 'h': 1024, 'resize': 'fit'}}, 'ext_alt_text': None}]}, withheld_in_countries=nan, author_username='blue_037')\n",
      "https://twitter.com/blue_037/status/1106622869252046848\n",
      "Pandas(Index=8462, created_at='Fri Mar 15 23:36:54 +0000 2019', id=1106700831263477760, id_str='1106700831263477760', full_text='#HelloBrother\\n\\nThat’s what Islam says : https://t.co/bsPHVtgKYB', truncated=False, display_text_range=[0, 39], entities={'hashtags': [{'text': 'HelloBrother', 'indices': [0, 13]}], 'symbols': [], 'user_mentions': [], 'urls': [], 'media': [{'id': 1106700803363033088, 'id_str': '1106700803363033088', 'indices': [40, 63], 'media_url': 'http://pbs.twimg.com/media/D1vKhGEX0AA69tB.jpg', 'media_url_https': 'https://pbs.twimg.com/media/D1vKhGEX0AA69tB.jpg', 'url': 'https://t.co/bsPHVtgKYB', 'display_url': 'pic.twitter.com/bsPHVtgKYB', 'expanded_url': 'https://twitter.com/emtinan4444/status/1106700831263477760/photo/1', 'type': 'photo', 'sizes': {'medium': {'w': 752, 'h': 1024, 'resize': 'fit'}, 'thumb': {'w': 150, 'h': 150, 'resize': 'crop'}, 'small': {'w': 499, 'h': 680, 'resize': 'fit'}, 'large': {'w': 752, 'h': 1024, 'resize': 'fit'}}}]}, source='<a href=\"http://twitter.com/download/iphone\" rel=\"nofollow\">Twitter for iPhone</a>', in_reply_to_status_id=nan, in_reply_to_status_id_str=None, in_reply_to_user_id=nan, in_reply_to_user_id_str=None, in_reply_to_screen_name=None, user={'id': 861597421, 'id_str': '861597421', 'name': 'امــتـنـان ☕️', 'screen_name': 'emtinan4444', 'location': '', 'description': '-Language and translation student -Here is my space ✨-hope,family,coffee, independent . سبحان الله وبحمده 🕯', 'url': None, 'entities': {'description': {'urls': []}}, 'protected': False, 'followers_count': 252, 'friends_count': 45, 'listed_count': 0, 'created_at': 'Thu Oct 04 15:39:38 +0000 2012', 'favourites_count': 279, 'utc_offset': None, 'time_zone': None, 'geo_enabled': False, 'verified': False, 'statuses_count': 3139, 'lang': None, 'contributors_enabled': False, 'is_translator': False, 'is_translation_enabled': False, 'profile_background_color': 'C0DEED', 'profile_background_image_url': 'http://abs.twimg.com/images/themes/theme1/bg.png', 'profile_background_image_url_https': 'https://abs.twimg.com/images/themes/theme1/bg.png', 'profile_background_tile': False, 'profile_image_url': 'http://pbs.twimg.com/profile_images/1394795236484861956/0j6YBSRJ_normal.jpg', 'profile_image_url_https': 'https://pbs.twimg.com/profile_images/1394795236484861956/0j6YBSRJ_normal.jpg', 'profile_banner_url': 'https://pbs.twimg.com/profile_banners/861597421/1621380073', 'profile_image_extensions_alt_text': None, 'profile_banner_extensions_alt_text': None, 'profile_link_color': '1DA1F2', 'profile_sidebar_border_color': 'C0DEED', 'profile_sidebar_fill_color': 'DDEEF6', 'profile_text_color': '333333', 'profile_use_background_image': True, 'has_extended_profile': True, 'default_profile': True, 'default_profile_image': False, 'following': False, 'follow_request_sent': False, 'notifications': False, 'translator_type': 'none', 'withheld_in_countries': []}, geo=None, coordinates=None, place=None, contributors=None, is_quote_status=False, quoted_status_id=nan, quoted_status_id_str=nan, quoted_status_permalink=nan, retweet_count=3617, favorite_count=2938, favorited=False, retweeted=False, possibly_sensitive=False, lang='en', quoted_status=nan, extended_entities={'media': [{'id': 1106700803363033088, 'id_str': '1106700803363033088', 'indices': [40, 63], 'media_url': 'http://pbs.twimg.com/media/D1vKhGEX0AA69tB.jpg', 'media_url_https': 'https://pbs.twimg.com/media/D1vKhGEX0AA69tB.jpg', 'url': 'https://t.co/bsPHVtgKYB', 'display_url': 'pic.twitter.com/bsPHVtgKYB', 'expanded_url': 'https://twitter.com/emtinan4444/status/1106700831263477760/photo/1', 'type': 'photo', 'sizes': {'medium': {'w': 752, 'h': 1024, 'resize': 'fit'}, 'thumb': {'w': 150, 'h': 150, 'resize': 'crop'}, 'small': {'w': 499, 'h': 680, 'resize': 'fit'}, 'large': {'w': 752, 'h': 1024, 'resize': 'fit'}}, 'ext_alt_text': None}]}, withheld_in_countries=nan, author_username='emtinan4444')\n",
      "https://twitter.com/emtinan4444/status/1106700831263477760\n"
     ]
    }
   ],
   "source": [
    "embeds = list()\n",
    "\n",
    "for tweet in df_hydrated.head(10).itertuples():\n",
    "    print(tweet)\n",
    "    # print(tweet.author_username)\n",
    "    tweet_url = 'https://twitter.com/%s/status/%s' % (tweet.author_username, tweet.id)\n",
    "    print(tweet_url)\n",
    "\n",
    "    response = requests.get('https://publish.twitter.com/oembed?url={}'.format(tweet_url))\n",
    "    \n",
    "    # embed = twitter.get_oembed_tweet(url=tweet_url)\n",
    "\n",
    "    # Checking whether we can still access the tweet\n",
    "    if response.status_code == 200:\n",
    "        embeds.append(response.json())\n",
    "\n",
    "    time.sleep(2)\n",
    "\n",
    "\n",
    "\n",
    "\n"
   ]
  },
  {
   "attachments": {},
   "cell_type": "markdown",
   "metadata": {},
   "source": [
    "Creating a new dataframe for the embeddings"
   ]
  },
  {
   "cell_type": "code",
   "execution_count": 28,
   "metadata": {},
   "outputs": [
    {
     "data": {
      "text/html": [
       "<div>\n",
       "<style scoped>\n",
       "    .dataframe tbody tr th:only-of-type {\n",
       "        vertical-align: middle;\n",
       "    }\n",
       "\n",
       "    .dataframe tbody tr th {\n",
       "        vertical-align: top;\n",
       "    }\n",
       "\n",
       "    .dataframe thead th {\n",
       "        text-align: right;\n",
       "    }\n",
       "</style>\n",
       "<table border=\"1\" class=\"dataframe\">\n",
       "  <thead>\n",
       "    <tr style=\"text-align: right;\">\n",
       "      <th></th>\n",
       "      <th>url</th>\n",
       "      <th>author_name</th>\n",
       "      <th>author_url</th>\n",
       "      <th>html</th>\n",
       "      <th>width</th>\n",
       "      <th>height</th>\n",
       "      <th>type</th>\n",
       "      <th>cache_age</th>\n",
       "      <th>provider_name</th>\n",
       "      <th>provider_url</th>\n",
       "      <th>version</th>\n",
       "    </tr>\n",
       "  </thead>\n",
       "  <tbody>\n",
       "    <tr>\n",
       "      <th>0</th>\n",
       "      <td>https://twitter.com/Fahad_Alammar8/status/1106...</td>\n",
       "      <td>م. فهد العمّار Fahad Alammar</td>\n",
       "      <td>https://twitter.com/Fahad_Alammar8</td>\n",
       "      <td>&lt;blockquote class=\"twitter-tweet\"&gt;&lt;p lang=\"en\"...</td>\n",
       "      <td>550</td>\n",
       "      <td>None</td>\n",
       "      <td>rich</td>\n",
       "      <td>3153600000</td>\n",
       "      <td>Twitter</td>\n",
       "      <td>https://twitter.com</td>\n",
       "      <td>1.0</td>\n",
       "    </tr>\n",
       "    <tr>\n",
       "      <th>1</th>\n",
       "      <td>https://twitter.com/RTErdogan/status/110938900...</td>\n",
       "      <td>Recep Tayyip Erdoğan</td>\n",
       "      <td>https://twitter.com/RTErdogan</td>\n",
       "      <td>&lt;blockquote class=\"twitter-tweet\"&gt;&lt;p lang=\"tr\"...</td>\n",
       "      <td>550</td>\n",
       "      <td>None</td>\n",
       "      <td>rich</td>\n",
       "      <td>3153600000</td>\n",
       "      <td>Twitter</td>\n",
       "      <td>https://twitter.com</td>\n",
       "      <td>1.0</td>\n",
       "    </tr>\n",
       "    <tr>\n",
       "      <th>2</th>\n",
       "      <td>https://twitter.com/muftimenk/status/110666897...</td>\n",
       "      <td>Mufti Menk</td>\n",
       "      <td>https://twitter.com/muftimenk</td>\n",
       "      <td>&lt;blockquote class=\"twitter-tweet\"&gt;&lt;p lang=\"en\"...</td>\n",
       "      <td>550</td>\n",
       "      <td>None</td>\n",
       "      <td>rich</td>\n",
       "      <td>3153600000</td>\n",
       "      <td>Twitter</td>\n",
       "      <td>https://twitter.com</td>\n",
       "      <td>1.0</td>\n",
       "    </tr>\n",
       "    <tr>\n",
       "      <th>3</th>\n",
       "      <td>https://twitter.com/M10/status/111017020574818...</td>\n",
       "      <td>Mesut Özil</td>\n",
       "      <td>https://twitter.com/M10</td>\n",
       "      <td>&lt;blockquote class=\"twitter-tweet\"&gt;&lt;p lang=\"en\"...</td>\n",
       "      <td>550</td>\n",
       "      <td>None</td>\n",
       "      <td>rich</td>\n",
       "      <td>3153600000</td>\n",
       "      <td>Twitter</td>\n",
       "      <td>https://twitter.com</td>\n",
       "      <td>1.0</td>\n",
       "    </tr>\n",
       "    <tr>\n",
       "      <th>4</th>\n",
       "      <td>https://twitter.com/Dr_alqarnee/status/1106633...</td>\n",
       "      <td>د. عائض القرني</td>\n",
       "      <td>https://twitter.com/Dr_alqarnee</td>\n",
       "      <td>&lt;blockquote class=\"twitter-tweet\"&gt;&lt;p lang=\"ar\"...</td>\n",
       "      <td>550</td>\n",
       "      <td>None</td>\n",
       "      <td>rich</td>\n",
       "      <td>3153600000</td>\n",
       "      <td>Twitter</td>\n",
       "      <td>https://twitter.com</td>\n",
       "      <td>1.0</td>\n",
       "    </tr>\n",
       "    <tr>\n",
       "      <th>5</th>\n",
       "      <td>https://twitter.com/Dr_shathry/status/11066750...</td>\n",
       "      <td>د. علي الشثري</td>\n",
       "      <td>https://twitter.com/Dr_shathry</td>\n",
       "      <td>&lt;blockquote class=\"twitter-tweet\"&gt;&lt;p lang=\"ar\"...</td>\n",
       "      <td>550</td>\n",
       "      <td>None</td>\n",
       "      <td>rich</td>\n",
       "      <td>3153600000</td>\n",
       "      <td>Twitter</td>\n",
       "      <td>https://twitter.com</td>\n",
       "      <td>1.0</td>\n",
       "    </tr>\n",
       "    <tr>\n",
       "      <th>6</th>\n",
       "      <td>https://twitter.com/AbdullahK5/status/11066638...</td>\n",
       "      <td>عـبدالله الخريّف</td>\n",
       "      <td>https://twitter.com/AbdullahK5</td>\n",
       "      <td>&lt;blockquote class=\"twitter-tweet\"&gt;&lt;p lang=\"und...</td>\n",
       "      <td>550</td>\n",
       "      <td>None</td>\n",
       "      <td>rich</td>\n",
       "      <td>3153600000</td>\n",
       "      <td>Twitter</td>\n",
       "      <td>https://twitter.com</td>\n",
       "      <td>1.0</td>\n",
       "    </tr>\n",
       "    <tr>\n",
       "      <th>7</th>\n",
       "      <td>https://twitter.com/rightZaid/status/110651860...</td>\n",
       "      <td>زَيْد</td>\n",
       "      <td>https://twitter.com/rightZaid</td>\n",
       "      <td>&lt;blockquote class=\"twitter-tweet\"&gt;&lt;p lang=\"ar\"...</td>\n",
       "      <td>550</td>\n",
       "      <td>None</td>\n",
       "      <td>rich</td>\n",
       "      <td>3153600000</td>\n",
       "      <td>Twitter</td>\n",
       "      <td>https://twitter.com</td>\n",
       "      <td>1.0</td>\n",
       "    </tr>\n",
       "    <tr>\n",
       "      <th>8</th>\n",
       "      <td>https://twitter.com/emtinan4444/status/1106700...</td>\n",
       "      <td>امــتـنـان</td>\n",
       "      <td>https://twitter.com/emtinan4444</td>\n",
       "      <td>&lt;blockquote class=\"twitter-tweet\"&gt;&lt;p lang=\"en\"...</td>\n",
       "      <td>550</td>\n",
       "      <td>None</td>\n",
       "      <td>rich</td>\n",
       "      <td>3153600000</td>\n",
       "      <td>Twitter</td>\n",
       "      <td>https://twitter.com</td>\n",
       "      <td>1.0</td>\n",
       "    </tr>\n",
       "  </tbody>\n",
       "</table>\n",
       "</div>"
      ],
      "text/plain": [
       "                                                 url   \n",
       "0  https://twitter.com/Fahad_Alammar8/status/1106...  \\\n",
       "1  https://twitter.com/RTErdogan/status/110938900...   \n",
       "2  https://twitter.com/muftimenk/status/110666897...   \n",
       "3  https://twitter.com/M10/status/111017020574818...   \n",
       "4  https://twitter.com/Dr_alqarnee/status/1106633...   \n",
       "5  https://twitter.com/Dr_shathry/status/11066750...   \n",
       "6  https://twitter.com/AbdullahK5/status/11066638...   \n",
       "7  https://twitter.com/rightZaid/status/110651860...   \n",
       "8  https://twitter.com/emtinan4444/status/1106700...   \n",
       "\n",
       "                    author_name                          author_url   \n",
       "0  م. فهد العمّار Fahad Alammar  https://twitter.com/Fahad_Alammar8  \\\n",
       "1          Recep Tayyip Erdoğan       https://twitter.com/RTErdogan   \n",
       "2                    Mufti Menk       https://twitter.com/muftimenk   \n",
       "3                    Mesut Özil             https://twitter.com/M10   \n",
       "4                د. عائض القرني     https://twitter.com/Dr_alqarnee   \n",
       "5                 د. علي الشثري      https://twitter.com/Dr_shathry   \n",
       "6              عـبدالله الخريّف      https://twitter.com/AbdullahK5   \n",
       "7                         زَيْد       https://twitter.com/rightZaid   \n",
       "8                    امــتـنـان     https://twitter.com/emtinan4444   \n",
       "\n",
       "                                                html  width height  type   \n",
       "0  <blockquote class=\"twitter-tweet\"><p lang=\"en\"...    550   None  rich  \\\n",
       "1  <blockquote class=\"twitter-tweet\"><p lang=\"tr\"...    550   None  rich   \n",
       "2  <blockquote class=\"twitter-tweet\"><p lang=\"en\"...    550   None  rich   \n",
       "3  <blockquote class=\"twitter-tweet\"><p lang=\"en\"...    550   None  rich   \n",
       "4  <blockquote class=\"twitter-tweet\"><p lang=\"ar\"...    550   None  rich   \n",
       "5  <blockquote class=\"twitter-tweet\"><p lang=\"ar\"...    550   None  rich   \n",
       "6  <blockquote class=\"twitter-tweet\"><p lang=\"und...    550   None  rich   \n",
       "7  <blockquote class=\"twitter-tweet\"><p lang=\"ar\"...    550   None  rich   \n",
       "8  <blockquote class=\"twitter-tweet\"><p lang=\"en\"...    550   None  rich   \n",
       "\n",
       "    cache_age provider_name         provider_url version  \n",
       "0  3153600000       Twitter  https://twitter.com     1.0  \n",
       "1  3153600000       Twitter  https://twitter.com     1.0  \n",
       "2  3153600000       Twitter  https://twitter.com     1.0  \n",
       "3  3153600000       Twitter  https://twitter.com     1.0  \n",
       "4  3153600000       Twitter  https://twitter.com     1.0  \n",
       "5  3153600000       Twitter  https://twitter.com     1.0  \n",
       "6  3153600000       Twitter  https://twitter.com     1.0  \n",
       "7  3153600000       Twitter  https://twitter.com     1.0  \n",
       "8  3153600000       Twitter  https://twitter.com     1.0  "
      ]
     },
     "execution_count": 28,
     "metadata": {},
     "output_type": "execute_result"
    }
   ],
   "source": [
    "df_embeds = pd.DataFrame(embeds)\n",
    "df_embeds"
   ]
  },
  {
   "attachments": {},
   "cell_type": "markdown",
   "metadata": {},
   "source": [
    "Creating the resurrection view by constructing a simple page in hypertext markup language (HTML). One can use more sophisticated means to generate the page, including [Jinja](https://pypi.org/project/Jinja2/)."
   ]
  },
  {
   "cell_type": "code",
   "execution_count": 29,
   "metadata": {},
   "outputs": [],
   "source": [
    "prefix = \"\"\"<style type=\"text/css\">\n",
    "    .tweet_container {\n",
    "      float: left;\n",
    "      display: inline;\n",
    "      min-height: 500px;\n",
    "      max-width: 550px;\n",
    "      padding: 10px;\n",
    "    }\n",
    "    \n",
    "    .twitter-tweet {\n",
    "    }\n",
    "  </style>\n",
    "  \"\"\"\n",
    "\n",
    "suffix = ''\n"
   ]
  },
  {
   "cell_type": "code",
   "execution_count": 88,
   "metadata": {},
   "outputs": [],
   "source": [
    "from IPython.core.display import HTML"
   ]
  },
  {
   "cell_type": "code",
   "execution_count": null,
   "metadata": {},
   "outputs": [],
   "source": []
  },
  {
   "cell_type": "code",
   "execution_count": null,
   "metadata": {},
   "outputs": [],
   "source": []
  },
  {
   "cell_type": "code",
   "execution_count": 31,
   "metadata": {},
   "outputs": [],
   "source": [
    "'''\n",
    "Function for generating the representation of a single tweet\n",
    "'''\n",
    "def render_tweets(df, html):\n",
    "    for embed in df_embeds.itertuples():\n",
    "        html.write('<div class=\"tweet_container\">')\n",
    "        html.write(embed.html)\n",
    "        html.write('</div>')"
   ]
  },
  {
   "cell_type": "code",
   "execution_count": 90,
   "metadata": {},
   "outputs": [],
   "source": [
    "if not os.path.exists('resurrected'):\n",
    "    # Create the folder\n",
    "    os.makedirs('resurrected')\n",
    "\n",
    "with codecs.open('resurrected/tweets-sample.html', 'w', encoding='utf-8') as html:\n",
    "  html.write(prefix)\n",
    "  render_tweets(df_hydrated, html)\n",
    "  html.write(suffix)\n",
    "\n"
   ]
  },
  {
   "cell_type": "code",
   "execution_count": null,
   "metadata": {},
   "outputs": [],
   "source": []
  }
 ],
 "metadata": {
  "kernelspec": {
   "display_name": ".venv",
   "language": "python",
   "name": "python3"
  },
  "language_info": {
   "codemirror_mode": {
    "name": "ipython",
    "version": 3
   },
   "file_extension": ".py",
   "mimetype": "text/x-python",
   "name": "python",
   "nbconvert_exporter": "python",
   "pygments_lexer": "ipython3",
   "version": "3.8.5"
  },
  "orig_nbformat": 4
 },
 "nbformat": 4,
 "nbformat_minor": 2
}
